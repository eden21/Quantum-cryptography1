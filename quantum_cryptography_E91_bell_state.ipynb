{
 "cells": [
  {
   "cell_type": "markdown",
   "id": "043ae0c7",
   "metadata": {},
   "source": [
    "# Quantum Cryptography - E91 Protocol"
   ]
  },
  {
   "cell_type": "markdown",
   "id": "40f29b57",
   "metadata": {},
   "source": [
    "### Imports: "
   ]
  },
  {
   "cell_type": "code",
   "execution_count": 1,
   "id": "059f6583",
   "metadata": {},
   "outputs": [],
   "source": [
    "# imports\n",
    "import numpy as np\n",
    "import pandas as pd\n",
    "from numpy import random\n",
    "import scipy\n",
    "import matplotlib.pyplot as plt\n",
    "import math\n",
    "import random"
   ]
  },
  {
   "cell_type": "markdown",
   "id": "7e068284",
   "metadata": {},
   "source": [
    "### Functions:"
   ]
  },
  {
   "cell_type": "code",
   "execution_count": 2,
   "id": "6aa11c7e",
   "metadata": {},
   "outputs": [],
   "source": [
    "def Random_laser_pump(length):\n",
    "    \"\"\"randomize laserpump's bit and base of transmitting\"\"\"\n",
    "    random_bit_pump=np.random.choice(2, length)\n",
    "    random_base_pump=np.random.choice(2, length)\n",
    "    print(\"random_bit_pump:{}\".format(random_bit_pump))\n",
    "    print(\"random_base_pump:{}\".format(random_base_pump))\n",
    "    return random_bit_pump,random_base_pump\n",
    "\n",
    "def Random_detector(length):\n",
    "    \"\"\"randomize detector's base of measurment\"\"\"\n",
    "    random_base_detector=np.random.choice(2, length)\n",
    "    return random_base_detector\n",
    "\n",
    "def matching_bases(source_bit,source_base,alice_base,bob_base,length):\n",
    "    \"\"\"checking if Alice's & Bob's is matched ,if they do Bob takes alice measurement\"\"\"\n",
    "    matched_key=[]\n",
    "    mismatched_index=[]\n",
    "    #loop running on Alice's&Bob's bases\n",
    "    for i in range (0,length):\n",
    "        #if Alice's base is the same as Bob's\n",
    "        if alice_base[i]==bob_base[i]:\n",
    "            #the bit of Alice added to Bob's Key-because they are the same \n",
    "            matched_key.append(source_bit[i])\n",
    "        elif alice_base[i]!=bob_base[i]:\n",
    "            mismatched_index.append(i)\n",
    "    return matched_key,mismatched_index"
   ]
  },
  {
   "cell_type": "code",
   "execution_count": 3,
   "id": "2f6d127a",
   "metadata": {},
   "outputs": [
    {
     "name": "stdout",
     "output_type": "stream",
     "text": [
      "random_bit_pump:[1 0 0 0 0 0 1 1 0 0]\n",
      "random_base_pump:[1 1 1 0 1 0 1 1 1 1]\n",
      "alice_base:[1 1 1 0 0 1 0 1 1 0]\n",
      "bob_base:[0 0 0 0 1 0 1 1 1 0]\n",
      "matched_key:[0, 1, 0, 0]\n",
      "mismatched_index:[0, 1, 2, 4, 5, 6]\n"
     ]
    }
   ],
   "source": [
    "#length of the bit&bases\n",
    "length=10\n",
    "#Output of laser pump's bits and bases \n",
    "bit_laser_pump,base_laser_pump=Random_laser_pump(length)\n",
    "\n",
    "#Output of Alice's bases\n",
    "alice_base=Random_detector(length)\n",
    "print(\"alice_base:{}\".format(alice_base))\n",
    "\n",
    "#Output of Bob's bases\n",
    "bob_base=Random_detector(length)\n",
    "print(\"bob_base:{}\".format(bob_base))\n",
    "\n",
    "matched_key,mismatched_index=matching_bases(bit_laser_pump,base_laser_pump,alice_base,bob_base,length)\n",
    "print(\"matched_key:{}\".format(matched_key))\n",
    "print(\"mismatched_index:{}\".format(mismatched_index))"
   ]
  },
  {
   "cell_type": "code",
   "execution_count": null,
   "id": "a6198365",
   "metadata": {},
   "outputs": [],
   "source": []
  }
 ],
 "metadata": {
  "kernelspec": {
   "display_name": "Python 3 (ipykernel)",
   "language": "python",
   "name": "python3"
  },
  "language_info": {
   "codemirror_mode": {
    "name": "ipython",
    "version": 3
   },
   "file_extension": ".py",
   "mimetype": "text/x-python",
   "name": "python",
   "nbconvert_exporter": "python",
   "pygments_lexer": "ipython3",
   "version": "3.9.7"
  }
 },
 "nbformat": 4,
 "nbformat_minor": 5
}
