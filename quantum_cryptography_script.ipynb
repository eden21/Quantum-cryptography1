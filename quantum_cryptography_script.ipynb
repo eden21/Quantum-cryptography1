{
 "cells": [
  {
   "cell_type": "markdown",
   "id": "5a8afa13",
   "metadata": {},
   "source": [
    "# Quantum cryptography\n"
   ]
  },
  {
   "cell_type": "markdown",
   "id": "68dc0026",
   "metadata": {},
   "source": [
    "Imports:"
   ]
  },
  {
   "cell_type": "code",
   "execution_count": 6,
   "id": "4fe3a9fc",
   "metadata": {},
   "outputs": [],
   "source": [
    "# imports\n",
    "import numpy as np\n",
    "import pandas as pd\n",
    "from numpy import random\n",
    "import scipy\n",
    "import matplotlib.pyplot as plt\n",
    "import math\n",
    "import random"
   ]
  },
  {
   "cell_type": "markdown",
   "id": "b78a5a0b",
   "metadata": {},
   "source": [
    "#function"
   ]
  },
  {
   "cell_type": "code",
   "execution_count": 11,
   "id": "900f20b2",
   "metadata": {},
   "outputs": [],
   "source": [
    "def Random_Alice(length):\n",
    "    random_bit_alice=np.random.choice(2, length)\n",
    "    random_base_alice=np.random.choice(2, length)\n",
    "    #print(\"alice:\")\n",
    "    #rint(random_bit_alice)\n",
    "    #print(random_base_alice)\n",
    "    return [random_bit_alice,random_base_alice]\n",
    "    \n",
    "def Random_Bob(length):\n",
    "    random_base_bob=np.random.choice(2, length)\n",
    "    #print(\"bob:\")\n",
    "    #print(random_base_bob)\n",
    "    return random_base_bob\n",
    "\n",
    "def matching_bases(alice_bit,alice_base,bob_base,length):\n",
    "    bob_key=[]\n",
    "    for i in range (0,length):\n",
    "        if alice_base[i]==bob_base[i]:\n",
    "            bob_key.append(alice_bit[i])\n",
    "    return bob_key\n"
   ]
  },
  {
   "cell_type": "code",
   "execution_count": 12,
   "id": "1e804560",
   "metadata": {},
   "outputs": [],
   "source": [
    "length=10\n",
    "alice_result=Random_Alice(length)\n",
    "alice_bit=alice_result[0]\n",
    "alice_base=alice_result[1]\n",
    "bob_base=Random_Bob(length)\n",
    "bob_key=matching_bases(alice_bit,alice_base,bob_base,length)\n",
    "#print(\"bob Key:\")\n",
    "#print(bob_key)"
   ]
  },
  {
   "cell_type": "code",
   "execution_count": 13,
   "id": "8fcb8cf1",
   "metadata": {},
   "outputs": [],
   "source": [
    "def Random_Eve(length):\n",
    "    random_base_eve=np.random.choice(2, length)\n",
    "    #print(\"Eve:\")\n",
    "    #print(random_base_eve)\n",
    "    return random_base_eve\n",
    "\n",
    "def matching_bases_with_eve(alice_bit,alice_base,bob_base,eve_base,length):\n",
    "    bob_key_with_eve=[]\n",
    "    match_index=[]\n",
    "    eve_key=[]\n",
    "    base_match_count=0\n",
    "    bit_mismatch=0\n",
    "    \n",
    "    for i in range (0,length):\n",
    "        if alice_base[i]==bob_base[i]:\n",
    "            if eve_base[i]==alice_base[i]:\n",
    "                bob_key_with_eve.append(alice_bit[i])\n",
    "                eve_key.append(alice_bit[i])\n",
    "            if eve_base[i]!=alice_base[i]:\n",
    "                bob_key_with_eve.append(np.random.randint(2))\n",
    "                eve_key.append(np.random.randint(2))\n",
    "            match_index.append(i)\n",
    "            base_match_count=base_match_count+1\n",
    "    for j in range (0,len(match_index)):\n",
    "        if alice_bit[match_index[j]]!=bob_key_with_eve[j]:\n",
    "            bit_mismatch=bit_mismatch+1\n",
    "    #return [bob_key_with_eve,eve_key],base_match_count,bit_mismatch\n",
    "    return base_match_count,bit_mismatch"
   ]
  },
  {
   "cell_type": "code",
   "execution_count": 14,
   "id": "fa72c8db",
   "metadata": {},
   "outputs": [
    {
     "name": "stdout",
     "output_type": "stream",
     "text": [
      "match bases:5002537\n",
      "expected mismatch bits:1250634.25, mismatch bits:1251908\n",
      "mismatch presentage:25.025462080540333%\n",
      "standard deviation:1369.3063937629154\n"
     ]
    }
   ],
   "source": [
    "length=10000000\n",
    "alice_result=Random_Alice(length)\n",
    "alice_bit=alice_result[0]\n",
    "alice_base=alice_result[1]\n",
    "eve_base=Random_Eve(length)\n",
    "bob_base=Random_Bob(length)\n",
    "base_match,bit_mismatch=matching_bases_with_eve(alice_bit,alice_base,bob_base,eve_base,length)\n",
    "#base_match,bit_mismatch=matching_bases_with_eve(alice_bit,alice_base,bob_base,eve_base,length)\n",
    "#print(\"1.bob Key: 2.eve key:\")\n",
    "expected_mismatch=base_match/4\n",
    "mismatch_persentage=(bit_mismatch/base_match)*100\n",
    "sigma=np.sqrt(length*0.25*0.75)\n",
    "#add N sigma\n",
    "print(\"match bases:{}\".format(base_match))\n",
    "print(\"expected mismatch bits:{}, mismatch bits:{}\".format(expected_mismatch,bit_mismatch))\n",
    "print(\"mismatch presentage:{}%\".format(mismatch_persentage))\n",
    "print(\"standard deviation:{}\".format(sigma))\n",
    "#print(results)"
   ]
  },
  {
   "cell_type": "code",
   "execution_count": null,
   "id": "64d15f16",
   "metadata": {},
   "outputs": [],
   "source": []
  }
 ],
 "metadata": {
  "kernelspec": {
   "display_name": "Python 3 (ipykernel)",
   "language": "python",
   "name": "python3"
  },
  "language_info": {
   "codemirror_mode": {
    "name": "ipython",
    "version": 3
   },
   "file_extension": ".py",
   "mimetype": "text/x-python",
   "name": "python",
   "nbconvert_exporter": "python",
   "pygments_lexer": "ipython3",
   "version": "3.9.7"
  }
 },
 "nbformat": 4,
 "nbformat_minor": 5
}
