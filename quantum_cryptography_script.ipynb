{
 "cells": [
  {
   "cell_type": "markdown",
   "id": "e833961f",
   "metadata": {},
   "source": [
    "# Quantum cryptography-BB84 Protocol\n"
   ]
  },
  {
   "cell_type": "markdown",
   "id": "9dabe667",
   "metadata": {},
   "source": [
    "### Imports:"
   ]
  },
  {
   "cell_type": "code",
   "execution_count": 6,
   "id": "4fe3a9fc",
   "metadata": {},
   "outputs": [],
   "source": [
    "# imports\n",
    "import numpy as np\n",
    "import pandas as pd\n",
    "from numpy import random\n",
    "import scipy\n",
    "import matplotlib.pyplot as plt\n",
    "import math\n",
    "import random"
   ]
  },
  {
   "cell_type": "markdown",
   "id": "6a67dca5",
   "metadata": {},
   "source": [
    "### Functions part 1-Alice and Bob simulation:"
   ]
  },
  {
   "cell_type": "code",
   "execution_count": 7,
   "id": "900f20b2",
   "metadata": {},
   "outputs": [],
   "source": [
    "\n",
    "def Random_Alice(length):\n",
    "    \"\"\"randomize Alice's bit and Alice's base of transmitting\"\"\"\n",
    "    random_bit_alice=np.random.choice(2, length)\n",
    "    random_base_alice=np.random.choice(2, length)\n",
    "    return [random_bit_alice,random_base_alice]\n",
    "    \n",
    "def Random_Bob(length):\n",
    "    \"\"\"randomize Bob's base of measurment\"\"\"\n",
    "    random_base_bob=np.random.choice(2, length)\n",
    "    return random_base_bob\n",
    "\n",
    "def matching_bases(alice_bit,alice_base,bob_base,length):\n",
    "    \"\"\"checking if Alice's & Bob's is matched ,if they do Bob takes alice measurement\"\"\"\n",
    "    bob_key=[]\n",
    "    #loop running on Alice's&Bob's bases\n",
    "    for i in range (0,length):\n",
    "        #if Alice's base is the same as Bob's\n",
    "        if alice_base[i]==bob_base[i]:\n",
    "            #the bit of Alice added to Bob's Key-because they are the same \n",
    "            bob_key.append(alice_bit[i])\n",
    "    return bob_key\n"
   ]
  },
  {
   "cell_type": "markdown",
   "id": "aee18dc8",
   "metadata": {},
   "source": [
    "### Simulation main part 1-Alice and Bob simulation:"
   ]
  },
  {
   "cell_type": "code",
   "execution_count": 8,
   "id": "1e804560",
   "metadata": {},
   "outputs": [
    {
     "name": "stdout",
     "output_type": "stream",
     "text": [
      "[0, 0, 1, 1, 1, 1, 1, 0, 1, 0, 1, 1, 1, 1, 1, 1, 1, 0, 0, 1, 0, 1, 1, 1, 1, 1, 1, 1, 0, 0, 0, 0, 0, 0, 0, 1, 0, 1, 0, 1, 0, 0, 1, 0, 0, 1, 1, 1, 1, 0, 1, 1, 1, 0, 1, 0]\n"
     ]
    }
   ],
   "source": [
    "#length of the bit&bases\n",
    "length=100\n",
    "#Output of Alice's bits and bases \n",
    "alice_result=Random_Alice(length)\n",
    "alice_bit=alice_result[0]\n",
    "alice_base=alice_result[1]\n",
    "#Output of Bob's bases\n",
    "bob_base=Random_Bob(length)\n",
    "#create Bob's key\n",
    "bob_key=matching_bases(alice_bit,alice_base,bob_base,length)\n",
    "print(bob_key)"
   ]
  },
  {
   "cell_type": "markdown",
   "id": "9c6450e2",
   "metadata": {},
   "source": [
    "### Functions part 2- Alice & Bob system with Eve (Eveasdropping) :"
   ]
  },
  {
   "cell_type": "code",
   "execution_count": 12,
   "id": "8fcb8cf1",
   "metadata": {},
   "outputs": [],
   "source": [
    "def Random_Eve(length):\n",
    "    \"\"\"randomize Eve's bases of measurments\"\"\"\n",
    "    random_base_eve=np.random.choice(2, length)\n",
    "    return random_base_eve\n",
    "\n",
    "def matching_bases_with_eve(alice_bit,alice_base,bob_base,eve_base,length):\n",
    "    \"\"\"checking if Alice's & Bob's is matched ,with Eve, and work according to protocol BB84 logic\"\"\"\n",
    "    bob_key_with_eve=[]\n",
    "    match_index=[]\n",
    "    base_match_count=0\n",
    "    bit_mismatch=0\n",
    "    #loop running on Alice's&Bob's bases\n",
    "    for i in range (0,length):\n",
    "        #if Alice's base is the same as Bob's\n",
    "        if alice_base[i]==bob_base[i]:\n",
    "            \n",
    "            #if Eve's base is the same as Alice's & Bob's\n",
    "            if eve_base[i]==alice_base[i]:\n",
    "                #the bit of Alice added to Bob's Key-because they are the same\n",
    "                bob_key_with_eve.append(alice_bit[i])\n",
    "                \n",
    "            #if Eve's base is not the same as Alice's & Bob's\n",
    "            if eve_base[i]!=alice_base[i]:\n",
    "                #Bob's measurements is unpredictable so we randomize the measurement again\n",
    "                bob_key_with_eve.append(np.random.randint(2))\n",
    "                \n",
    "            #save the index in the base array where the bases are match\n",
    "            match_index.append(i)\n",
    "            #add count to base matches\n",
    "            base_match_count=base_match_count+1\n",
    "            \n",
    "    #Loop for checking matches of Alice's & Bob's bits\n",
    "    for j in range (0,len(match_index)):\n",
    "        #if Alice's bit is not match to Bob's bit\n",
    "        if alice_bit[match_index[j]]!=bob_key_with_eve[j]:\n",
    "            #add count of mismatch bits\n",
    "            bit_mismatch=bit_mismatch+1\n",
    "            \n",
    "    return base_match_count,bit_mismatch"
   ]
  },
  {
   "cell_type": "markdown",
   "id": "240b5836",
   "metadata": {},
   "source": [
    "### simulation main part 2 - Alice and Bob with Eve (Eveasdroping):"
   ]
  },
  {
   "cell_type": "code",
   "execution_count": 13,
   "id": "fa72c8db",
   "metadata": {},
   "outputs": [
    {
     "name": "stdout",
     "output_type": "stream",
     "text": [
      "match bases:5000244\n",
      "expected mismatch bits:1250061.0, mismatch bits:1249919\n",
      "mismatch presentage:24.997160138585237%\n",
      "standard deviation:1369.3063937629154\n",
      "N_sigma:0.10370213755431144\n"
     ]
    }
   ],
   "source": [
    "#length of the bit&bases\n",
    "length=10000000\n",
    "#Output of Alice's bits and bases \n",
    "alice_result=Random_Alice(length)\n",
    "alice_bit=alice_result[0]\n",
    "alice_base=alice_result[1]\n",
    "\n",
    "#Output of Eve's bases\n",
    "eve_base=Random_Eve(length)\n",
    "\n",
    "#Output of Bob's bases\n",
    "bob_base=Random_Bob(length)\n",
    "\n",
    "#get the number of match bases and the mismatched bits number\n",
    "base_match,bit_mismatch=matching_bases_with_eve(alice_bit,alice_base,bob_base,eve_base,length)\n",
    "\n",
    "#caculate statstic parameters\n",
    "expected_mismatch=base_match/4\n",
    "mismatch_persentage=(bit_mismatch/base_match)*100\n",
    "sigma=np.sqrt(length*0.25*0.75)\n",
    "N_sigma=np.abs(expected_mismatch-bit_mismatch)/sigma\n",
    "#add N sigma\n",
    "#print statistic parameters\n",
    "print(\"match bases:{}\".format(base_match))\n",
    "print(\"expected mismatch bits:{}, mismatch bits:{}\".format(expected_mismatch,bit_mismatch))\n",
    "print(\"mismatch presentage:{}%\".format(mismatch_persentage))\n",
    "print(\"standard deviation:{}\".format(sigma))\n",
    "print(\"N_sigma:{}\".format(N_sigma))\n"
   ]
  },
  {
   "cell_type": "code",
   "execution_count": null,
   "id": "64d15f16",
   "metadata": {},
   "outputs": [],
   "source": []
  }
 ],
 "metadata": {
  "kernelspec": {
   "display_name": "Python 3 (ipykernel)",
   "language": "python",
   "name": "python3"
  },
  "language_info": {
   "codemirror_mode": {
    "name": "ipython",
    "version": 3
   },
   "file_extension": ".py",
   "mimetype": "text/x-python",
   "name": "python",
   "nbconvert_exporter": "python",
   "pygments_lexer": "ipython3",
   "version": "3.9.7"
  }
 },
 "nbformat": 4,
 "nbformat_minor": 5
}
