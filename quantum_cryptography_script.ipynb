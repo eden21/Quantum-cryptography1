{
 "cells": [
  {
   "cell_type": "markdown",
   "id": "5cd47f39",
   "metadata": {},
   "source": [
    "# Quantum cryptography\n"
   ]
  },
  {
   "cell_type": "markdown",
   "id": "b6a4622c",
   "metadata": {},
   "source": [
    "Imports:"
   ]
  },
  {
   "cell_type": "code",
   "execution_count": 2,
   "id": "a39ee478",
   "metadata": {},
   "outputs": [],
   "source": [
    "# imports\n",
    "import numpy as np\n",
    "import pandas as pd\n",
    "from numpy import random\n",
    "import scipy\n",
    "import matplotlib.pyplot as plt\n",
    "import math\n",
    "import random"
   ]
  },
  {
   "cell_type": "markdown",
   "id": "89d555b7",
   "metadata": {},
   "source": [
    "#function"
   ]
  },
  {
   "cell_type": "code",
   "execution_count": 14,
   "id": "267f24ad",
   "metadata": {},
   "outputs": [],
   "source": [
    "def Random_Alice(length):\n",
    "    random_bit_alice=np.random.choice(2, length)\n",
    "    random_base_alice=np.random.choice(2, length)\n",
    "    print(\"alice:\")\n",
    "    print(random_bit_alice)\n",
    "    print(random_base_alice)\n",
    "    return [random_bit_alice,random_base_alice]\n",
    "    \n",
    "def Random_Bob(length):\n",
    "    random_base_bob=np.random.choice(2, length)\n",
    "    print(\"bob:\")\n",
    "    print(random_base_bob)\n",
    "    return random_base_bob\n",
    "\n",
    "def matching_bases(alice_bit,alice_base,bob_base,length):\n",
    "    bob_key=[]\n",
    "    for i in range (0,length):\n",
    "        if alice_base[i]==bob_base[i]:\n",
    "            bob_key.append(alice_bit[i])\n",
    "    return bob_key\n"
   ]
  },
  {
   "cell_type": "code",
   "execution_count": 15,
   "id": "553200b7",
   "metadata": {},
   "outputs": [
    {
     "name": "stdout",
     "output_type": "stream",
     "text": [
      "alice:\n",
      "[0 0 1 1 1 0 1 0 0 0]\n",
      "[0 0 0 0 0 0 1 0 1 1]\n",
      "bob:\n",
      "[1 0 1 1 0 1 0 1 1 1]\n",
      "bob Key:\n",
      "[0, 1, 0, 0]\n"
     ]
    }
   ],
   "source": [
    "length=10\n",
    "alice_result=Random_Alice(length)\n",
    "alice_bit=alice_result[0]\n",
    "alice_base=alice_result[1]\n",
    "bob_base=Random_Bob(length)\n",
    "bob_key=matching_bases(alice_bit,alice_base,bob_base,length)\n",
    "print(\"bob Key:\")\n",
    "print(bob_key)"
   ]
  },
  {
   "cell_type": "code",
   "execution_count": null,
   "id": "59cfed99",
   "metadata": {},
   "outputs": [],
   "source": [
    "def Random_Eve(length):\n",
    "    random_base_bob=np.random.choice(2, length)\n",
    "    print(\"bob:\")\n",
    "    print(random_base_bob)\n",
    "    return random_base_bob"
   ]
  }
 ],
 "metadata": {
  "kernelspec": {
   "display_name": "Python 3 (ipykernel)",
   "language": "python",
   "name": "python3"
  },
  "language_info": {
   "codemirror_mode": {
    "name": "ipython",
    "version": 3
   },
   "file_extension": ".py",
   "mimetype": "text/x-python",
   "name": "python",
   "nbconvert_exporter": "python",
   "pygments_lexer": "ipython3",
   "version": "3.9.7"
  }
 },
 "nbformat": 4,
 "nbformat_minor": 5
}
