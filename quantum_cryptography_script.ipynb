{
 "cells": [
  {
   "cell_type": "markdown",
   "id": "5a8afa13",
   "metadata": {},
   "source": [
    "# Quantum cryptography\n"
   ]
  },
  {
   "cell_type": "markdown",
   "id": "68dc0026",
   "metadata": {},
   "source": [
    "Imports:"
   ]
  },
  {
   "cell_type": "code",
   "execution_count": 2,
   "id": "4fe3a9fc",
   "metadata": {},
   "outputs": [],
   "source": [
    "# imports\n",
    "import numpy as np\n",
    "import pandas as pd\n",
    "from numpy import random\n",
    "import scipy\n",
    "import matplotlib.pyplot as plt\n",
    "import math\n",
    "import random"
   ]
  },
  {
   "cell_type": "markdown",
   "id": "b78a5a0b",
   "metadata": {},
   "source": [
    "#function"
   ]
  },
  {
   "cell_type": "code",
   "execution_count": 25,
   "id": "900f20b2",
   "metadata": {},
   "outputs": [],
   "source": [
    "def Random_Alice(length):\n",
    "    random_bit_alice=np.random.choice(2, length)\n",
    "    random_base_alice=np.random.choice(2, length)\n",
    "    print(\"alice:\")\n",
    "    print(random_bit_alice)\n",
    "    print(random_base_alice)\n",
    "    return [random_bit_alice,random_base_alice]\n",
    "    \n",
    "def Random_Bob(length):\n",
    "    random_base_bob=np.random.choice(2, length)\n",
    "    print(\"bob:\")\n",
    "    print(random_base_bob)\n",
    "    return random_base_bob\n",
    "\n",
    "def matching_bases(alice_bit,alice_base,bob_base,length):\n",
    "    bob_key=[]\n",
    "    for i in range (0,length):\n",
    "        if alice_base[i]==bob_base[i]:\n",
    "            bob_key.append(alice_bit[i])\n",
    "    return bob_key\n"
   ]
  },
  {
   "cell_type": "code",
   "execution_count": 26,
   "id": "1e804560",
   "metadata": {},
   "outputs": [
    {
     "name": "stdout",
     "output_type": "stream",
     "text": [
      "alice:\n",
      "[0 1 1 0 1 0 0 0 1 0]\n",
      "[1 0 1 1 1 0 1 1 0 1]\n",
      "bob:\n",
      "[1 0 1 1 1 0 0 1 0 1]\n",
      "bob Key:\n",
      "[0, 1, 1, 0, 1, 0, 0, 1, 0]\n"
     ]
    }
   ],
   "source": [
    "length=10\n",
    "alice_result=Random_Alice(length)\n",
    "alice_bit=alice_result[0]\n",
    "alice_base=alice_result[1]\n",
    "bob_base=Random_Bob(length)\n",
    "bob_key=matching_bases(alice_bit,alice_base,bob_base,length)\n",
    "print(\"bob Key:\")\n",
    "print(bob_key)"
   ]
  },
  {
   "cell_type": "code",
   "execution_count": 27,
   "id": "8fcb8cf1",
   "metadata": {},
   "outputs": [],
   "source": [
    "def Random_Eve(length):\n",
    "    random_base_eve=np.random.choice(2, length)\n",
    "    print(\"Eve:\")\n",
    "    print(random_base_eve)\n",
    "    return random_base_eve\n",
    "\n",
    "def matching_bases_with_eve(alice_bit,alice_base,bob_base,eve_base,length):\n",
    "    bob_key_with_eve=[]\n",
    "    eve_key=[]\n",
    "    for i in range (0,length):\n",
    "        if alice_base[i]==bob_base[i]:\n",
    "            if eve_base[i]==alice_base[i]:\n",
    "                bob_key_with_eve.append(alice_bit[i])\n",
    "                eve_key.append(alice_bit[i])\n",
    "            if eve_base[i]!=alice_base[i]:\n",
    "                bob_key_with_eve.append(np.random.randint(2))\n",
    "                eve_key.append(np.random.randint(2))\n",
    "    return [bob_key_with_eve,eve_key]"
   ]
  },
  {
   "cell_type": "code",
   "execution_count": 28,
   "id": "fa72c8db",
   "metadata": {},
   "outputs": [
    {
     "name": "stdout",
     "output_type": "stream",
     "text": [
      "alice:\n",
      "[1 0 1 0 1 1 1 0 0 0]\n",
      "[0 1 1 1 0 0 1 1 0 1]\n",
      "Eve:\n",
      "[0 1 0 1 0 1 1 0 1 1]\n",
      "bob:\n",
      "[1 0 1 0 1 0 1 0 0 0]\n",
      "1.bob Key: 2.eve key:\n",
      "[[1, 0, 1, 1], [0, 1, 1, 0]]\n"
     ]
    }
   ],
   "source": [
    "length=10\n",
    "alice_result=Random_Alice(length)\n",
    "alice_bit=alice_result[0]\n",
    "alice_base=alice_result[1]\n",
    "eve_base=Random_Eve(length)\n",
    "bob_base=Random_Bob(length)\n",
    "results=matching_bases_with_eve(alice_bit,alice_base,bob_base,eve_base,length)\n",
    "print(\"1.bob Key: 2.eve key:\")\n",
    "print(results)"
   ]
  },
  {
   "cell_type": "code",
   "execution_count": null,
   "id": "64d15f16",
   "metadata": {},
   "outputs": [],
   "source": []
  }
 ],
 "metadata": {
  "kernelspec": {
   "display_name": "Python 3 (ipykernel)",
   "language": "python",
   "name": "python3"
  },
  "language_info": {
   "codemirror_mode": {
    "name": "ipython",
    "version": 3
   },
   "file_extension": ".py",
   "mimetype": "text/x-python",
   "name": "python",
   "nbconvert_exporter": "python",
   "pygments_lexer": "ipython3",
   "version": "3.9.7"
  }
 },
 "nbformat": 4,
 "nbformat_minor": 5
}
